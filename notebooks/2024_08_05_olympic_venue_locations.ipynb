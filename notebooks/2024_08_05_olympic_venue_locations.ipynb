{
 "cells": [
  {
   "cell_type": "code",
   "execution_count": 1,
   "metadata": {},
   "outputs": [],
   "source": [
    "import pandas as pd\n",
    "import plotly.express as px"
   ]
  },
  {
   "cell_type": "code",
   "execution_count": 2,
   "metadata": {},
   "outputs": [],
   "source": [
    "venue = pd.read_excel(\"../data/raw/Paris 2024 Venue Locations.xlsx\")"
   ]
  },
  {
   "cell_type": "code",
   "execution_count": 4,
   "metadata": {},
   "outputs": [
    {
     "data": {
      "application/vnd.plotly.v1+json": {
       "config": {
        "plotlyServerURL": "https://plot.ly"
       },
       "data": [
        {
         "customdata": [
          [
           "Paris",
           "La Concorde",
           "Urban Park la Concorde (FCO)"
          ],
          [
           "Paris",
           "Arena Paris Sud 6",
           "Handball (HBL), Weightlifting (WLF)"
          ],
          [
           "Paris",
           "Arena Paris Sud 4",
           "Table Tennis (TTE)"
          ],
          [
           "Vaires-sur-Marne",
           "Stade nautique de Vaires-sur-Marne - stade d'eaux vives",
           "Canoe-kayak Slalom (CSL)"
          ],
          [
           "Paris",
           "Stade de France",
           "Para Athletics (PATH), Paralympic Closing Ceremony (PCC)"
          ],
          [
           "Paris",
           "La Concorde 3",
           "Skateboarding (SKB)"
          ],
          [
           "Paris",
           "Clichy-sous-Bois",
           "Para Road Cycling (PCRD)"
          ],
          [
           "Paris",
           "Invalides",
           "Para Archery (PARC), Para Athletics - Marathon Finish (PATM)"
          ],
          [
           "Paris",
           "Stade de France",
           "Athletics (ATH), Rugby Sevens (RU7), Closing Ceremony (OCC)"
          ],
          [
           "Paris",
           "Paris La Défense Arena",
           "Swimming (SWM), Water Polo (WPO)"
          ],
          [
           "Paris",
           "Stade Tour Eiffel",
           "Blind Football (PFBB)"
          ],
          [
           "Paris",
           "Hôtel de Ville",
           "Athletics - Marathon Start (ATM)"
          ],
          [
           "Paris",
           "La Concorde",
           "Paralympic Opening Ceremony (POC)"
          ],
          [
           "Paris",
           "Arena Porte de la Chapelle",
           "Para Badminton (PBDM), Para Powerlifting (PPWL)"
          ],
          [
           "Paris",
           "La Concorde 2",
           "BMX Freestyle (BMF)"
          ],
          [
           "Marseille",
           "Marina de Marseille",
           "Sailing (SAL)"
          ],
          [
           "Versailles",
           "Château de Versailles",
           "Para Equestrian (PEQU)"
          ],
          [
           "Paris",
           "Arena Champ de Mars",
           "Para Judo (PJUD), Wheelchair Rugby (PWRU)"
          ],
          [
           "Paris",
           "Parc des Princes",
           "Football (FBL)"
          ],
          [
           "Paris",
           "Arena Paris Sud 1",
           "Boccia (PBOC)"
          ],
          [
           "Paris",
           "Arena Bercy",
           "Wheelchair Basketball (PWBK)"
          ],
          [
           "Montigny-le-Bretonneux",
           "Stade BMX de Saint-Quentin-en-Yvelines",
           "BMX Racing (BMX)"
          ],
          [
           "Nantes",
           "Stade de la Beaujoire",
           "Football (FBL)"
          ],
          [
           "Paris",
           "Paris La Défense Arena",
           "Para Swimming (PSWM)"
          ],
          [
           "Lille",
           "Stade Pierre Mauroy",
           "Basketball (BKB), Handball (HBL)"
          ],
          [
           "Seine-Saint-Denis",
           "La Courneuve",
           "Para Athletics - Marathon Start (PATM)"
          ],
          [
           "Montigny-le-Bretonneux",
           "Vélodrome National de Saint-Quentin-en-Yvelines",
           "Track Cycling (CTR)"
          ],
          [
           "Lyon",
           "Stade de Lyon",
           "Football (FBL)"
          ],
          [
           "Colombes",
           "Stade Yves-du-Manoir",
           "Hockey (HOC)"
          ],
          [
           "Marseille",
           "Stade de Marseille",
           "Football (FBL)"
          ],
          [
           "Paris",
           "Grand Palais",
           "Fencing (FEN), Taekwondo (TKW)"
          ],
          [
           "Paris",
           "Grand Palais",
           "Wheelchair Fencing (PWFE), Para Taekwondo (PTKW)"
          ],
          [
           "Paris",
           "Arena Paris Sud 6",
           "Goalball (PGBL)"
          ],
          [
           "Paris",
           "Stade Roland Garros",
           "Wheelchair Tennis (PWTE)"
          ],
          [
           "Saint-Étienne",
           "Stade Geoffroy-Guichard",
           "Football (FBL)"
          ],
          [
           "Paris",
           "Stade Roland Garros",
           "Tennis (TEN), Boxing (BOX)"
          ],
          [
           "Paris",
           "Arena Paris Sud 4",
           "Para Table Tennis (PTTE)"
          ],
          [
           "Nice",
           "Stade de Nice",
           "Football (FBL)"
          ],
          [
           "Paris",
           "La Concorde 4",
           "Skateboarding (SKB)"
          ],
          [
           "Châteauroux",
           "Centre national de tir de Châteauroux",
           "Para Shooting (PSHO)"
          ],
          [
           "Vaires-sur-Marne",
           "Stade nautique de Vaires-sur-Marne - bassin d'eaux calmes",
           "Para Rowing (PROW), Para Canoe (PCSP)"
          ],
          [
           "Teahupoʻo",
           "Tahiti Teahupo'o",
           "Surfing (SRF)"
          ],
          [
           "Paris",
           "Pont Alexandre III",
           "Road Cycling - Time Trial Finish (CRD), Marathon Swimming (OWS), Triathlon (TRI)"
          ],
          [
           "Paris",
           "Invalides",
           "Athletics - Marathon Finish (ATM), Road Cycling - Time Trial Start (CRD), Archery (ARC)"
          ],
          [
           "Montigny-le-Bretonneux",
           "Vélodrome National de Saint-Quentin-en-Yvelines",
           "Para Track Cycling (PCTR)"
          ],
          [
           "Guyancourt",
           "Golf National",
           "Golf (GLF)"
          ],
          [
           "Élancourt",
           "Colline d’Elancourt",
           "Mountain Bike (MTB)"
          ],
          [
           "Paris",
           "Site d’escalade du Bourget",
           "Sport Climbing (CLB)"
          ],
          [
           "Paris",
           "Centre Aquatique",
           "Artistic Swimming (SWA), Diving (DIV), Water Polo (WPO)"
          ],
          [
           "Paris",
           "Arena Porte de la Chapelle",
           "Badminton (BDM), Rhythmic Gymnastics (GRY)"
          ],
          [
           "Paris",
           "Arena Paris Sud 1",
           "Volleyball (VVO)"
          ],
          [
           "Paris",
           "Pont Alexandre III",
           "Para Triathlon (PTRI)"
          ],
          [
           "Paris",
           "Arena Paris Nord",
           "Sitting Volleyball (PVBS)"
          ],
          [
           "Versailles",
           "Château de Versailles",
           "Equestrian - Dressage (EQD), Equestrian - Eventing (EQE), Equestrian - Jumping (EQJ), Modern Pentathlon (MPN)"
          ],
          [
           "Paris",
           "Arena Bercy",
           "Basketball (BKB), Artistic Gymnastics (GAR), Trampoline Gymnastics (GTR)"
          ],
          [
           "Paris",
           "Stade Tour Eiffel",
           "Beach Volleyball (VBV)"
          ],
          [
           "Paris",
           "Arena Champ de Mars",
           "Judo (JUD), Wrestling (WRE)"
          ],
          [
           "Paris",
           "Trocadéro",
           "Athletics - Race Walk (ATW), Road Cycling - Road Race (CRD)"
          ],
          [
           "Paris",
           "La Concorde 1",
           "Basketball 3x3 (BK3), Breaking (BKG)"
          ],
          [
           "Vaires-sur-Marne",
           "Stade nautique de Vaires-sur-Marne - bassin d'eaux calmes",
           "Rowing (ROW), Canoe Sprint (CSP)"
          ],
          [
           "Chateauroux",
           "Centre national de tir de Châteauroux",
           "Shooting (SHO)"
          ],
          [
           "Paris",
           "Arena Paris Nord",
           "Boxing (BOX), Modern Pentathlon (MDN)"
          ],
          [
           "Bordeaux",
           "Stade de Bordeaux",
           "Football (FBL)"
          ]
         ],
         "hovertemplate": "latitude=%{lat}<br>longitude=%{lon}<br>location=%{customdata[0]}<br>Nom_Site=%{customdata[1]}<br>Sports=%{customdata[2]}<extra></extra>",
         "lat": [
          48.865703575,
          48.829381,
          48.830184,
          48.862232096,
          48.924475,
          48.86486788,
          48.906345,
          48.85704803,
          48.924475,
          48.8954,
          48.85613,
          48.8563881,
          48.865703575,
          48.8997292,
          48.86504456,
          43.2661,
          48.81432266,
          48.8531,
          48.84156974,
          48.832968,
          48.83863,
          48.78800979,
          47.25593494,
          48.8954,
          50.61190661,
          48.9372382,
          48.78800979,
          45.76514165,
          48.92934371,
          43.2698,
          48.86616355,
          48.86616355,
          48.829381,
          48.845968,
          45.4607,
          48.845968,
          48.830184,
          43.7051,
          48.86573765,
          46.8157,
          48.8623,
          -17.86693,
          48.8637,
          48.85704803,
          48.78800979,
          48.7532,
          48.78981063,
          48.93693402,
          48.923723,
          48.8997292,
          48.832968,
          48.8637,
          48.9721,
          48.81432266,
          48.83863,
          48.85613,
          48.8531,
          48.85972558,
          48.86640642,
          48.8623,
          46.8157,
          48.9721,
          44.8974
         ],
         "legendgroup": "",
         "lon": [
          2.321214226,
          2.290865,
          2.289033,
          2.639546361,
          2.360127,
          2.32139191,
          2.553544,
          2.312835932,
          2.360127,
          2.2294,
          2.2978,
          2.35222203,
          2.321214226,
          2.3605141,
          2.32119516,
          5.3678,
          2.08452588,
          2.30252,
          2.253048697,
          2.2840069,
          2.378597,
          2.03498269,
          -1.52469927,
          2.2294,
          3.13047318,
          2.3994101,
          2.03498269,
          4.98199275,
          2.24777122,
          5.3959,
          2.3125474,
          2.3125474,
          2.290865,
          2.253522,
          4.3902,
          2.253522,
          2.289033,
          7.1926,
          2.3220383,
          1.7582,
          2.6348,
          -149.25208,
          2.3134,
          2.312835932,
          2.03498269,
          2.0758,
          1.9642379,
          2.41997931,
          2.35578,
          2.3605141,
          2.2840069,
          2.3134,
          2.5149,
          2.08452588,
          2.378597,
          2.2978,
          2.30252,
          2.29221884,
          2.32119515,
          2.6348,
          1.7582,
          2.5149,
          -0.5616
         ],
         "marker": {
          "color": "#1b263b"
         },
         "mode": "markers",
         "name": "",
         "showlegend": false,
         "subplot": "mapbox",
         "type": "scattermapbox"
        }
       ],
       "layout": {
        "height": 300,
        "legend": {
         "tracegroupgap": 0
        },
        "mapbox": {
         "center": {
          "lat": 47.31482151088889,
          "lon": 0.04226239022222194
         },
         "domain": {
          "x": [
           0,
           1
          ],
          "y": [
           0,
           1
          ]
         },
         "style": "open-street-map",
         "zoom": 3
        },
        "margin": {
         "b": 0,
         "l": 0,
         "r": 0,
         "t": 0
        },
        "template": {
         "data": {
          "bar": [
           {
            "error_x": {
             "color": "#2a3f5f"
            },
            "error_y": {
             "color": "#2a3f5f"
            },
            "marker": {
             "line": {
              "color": "#E5ECF6",
              "width": 0.5
             },
             "pattern": {
              "fillmode": "overlay",
              "size": 10,
              "solidity": 0.2
             }
            },
            "type": "bar"
           }
          ],
          "barpolar": [
           {
            "marker": {
             "line": {
              "color": "#E5ECF6",
              "width": 0.5
             },
             "pattern": {
              "fillmode": "overlay",
              "size": 10,
              "solidity": 0.2
             }
            },
            "type": "barpolar"
           }
          ],
          "carpet": [
           {
            "aaxis": {
             "endlinecolor": "#2a3f5f",
             "gridcolor": "white",
             "linecolor": "white",
             "minorgridcolor": "white",
             "startlinecolor": "#2a3f5f"
            },
            "baxis": {
             "endlinecolor": "#2a3f5f",
             "gridcolor": "white",
             "linecolor": "white",
             "minorgridcolor": "white",
             "startlinecolor": "#2a3f5f"
            },
            "type": "carpet"
           }
          ],
          "choropleth": [
           {
            "colorbar": {
             "outlinewidth": 0,
             "ticks": ""
            },
            "type": "choropleth"
           }
          ],
          "contour": [
           {
            "colorbar": {
             "outlinewidth": 0,
             "ticks": ""
            },
            "colorscale": [
             [
              0,
              "#0d0887"
             ],
             [
              0.1111111111111111,
              "#46039f"
             ],
             [
              0.2222222222222222,
              "#7201a8"
             ],
             [
              0.3333333333333333,
              "#9c179e"
             ],
             [
              0.4444444444444444,
              "#bd3786"
             ],
             [
              0.5555555555555556,
              "#d8576b"
             ],
             [
              0.6666666666666666,
              "#ed7953"
             ],
             [
              0.7777777777777778,
              "#fb9f3a"
             ],
             [
              0.8888888888888888,
              "#fdca26"
             ],
             [
              1,
              "#f0f921"
             ]
            ],
            "type": "contour"
           }
          ],
          "contourcarpet": [
           {
            "colorbar": {
             "outlinewidth": 0,
             "ticks": ""
            },
            "type": "contourcarpet"
           }
          ],
          "heatmap": [
           {
            "colorbar": {
             "outlinewidth": 0,
             "ticks": ""
            },
            "colorscale": [
             [
              0,
              "#0d0887"
             ],
             [
              0.1111111111111111,
              "#46039f"
             ],
             [
              0.2222222222222222,
              "#7201a8"
             ],
             [
              0.3333333333333333,
              "#9c179e"
             ],
             [
              0.4444444444444444,
              "#bd3786"
             ],
             [
              0.5555555555555556,
              "#d8576b"
             ],
             [
              0.6666666666666666,
              "#ed7953"
             ],
             [
              0.7777777777777778,
              "#fb9f3a"
             ],
             [
              0.8888888888888888,
              "#fdca26"
             ],
             [
              1,
              "#f0f921"
             ]
            ],
            "type": "heatmap"
           }
          ],
          "heatmapgl": [
           {
            "colorbar": {
             "outlinewidth": 0,
             "ticks": ""
            },
            "colorscale": [
             [
              0,
              "#0d0887"
             ],
             [
              0.1111111111111111,
              "#46039f"
             ],
             [
              0.2222222222222222,
              "#7201a8"
             ],
             [
              0.3333333333333333,
              "#9c179e"
             ],
             [
              0.4444444444444444,
              "#bd3786"
             ],
             [
              0.5555555555555556,
              "#d8576b"
             ],
             [
              0.6666666666666666,
              "#ed7953"
             ],
             [
              0.7777777777777778,
              "#fb9f3a"
             ],
             [
              0.8888888888888888,
              "#fdca26"
             ],
             [
              1,
              "#f0f921"
             ]
            ],
            "type": "heatmapgl"
           }
          ],
          "histogram": [
           {
            "marker": {
             "pattern": {
              "fillmode": "overlay",
              "size": 10,
              "solidity": 0.2
             }
            },
            "type": "histogram"
           }
          ],
          "histogram2d": [
           {
            "colorbar": {
             "outlinewidth": 0,
             "ticks": ""
            },
            "colorscale": [
             [
              0,
              "#0d0887"
             ],
             [
              0.1111111111111111,
              "#46039f"
             ],
             [
              0.2222222222222222,
              "#7201a8"
             ],
             [
              0.3333333333333333,
              "#9c179e"
             ],
             [
              0.4444444444444444,
              "#bd3786"
             ],
             [
              0.5555555555555556,
              "#d8576b"
             ],
             [
              0.6666666666666666,
              "#ed7953"
             ],
             [
              0.7777777777777778,
              "#fb9f3a"
             ],
             [
              0.8888888888888888,
              "#fdca26"
             ],
             [
              1,
              "#f0f921"
             ]
            ],
            "type": "histogram2d"
           }
          ],
          "histogram2dcontour": [
           {
            "colorbar": {
             "outlinewidth": 0,
             "ticks": ""
            },
            "colorscale": [
             [
              0,
              "#0d0887"
             ],
             [
              0.1111111111111111,
              "#46039f"
             ],
             [
              0.2222222222222222,
              "#7201a8"
             ],
             [
              0.3333333333333333,
              "#9c179e"
             ],
             [
              0.4444444444444444,
              "#bd3786"
             ],
             [
              0.5555555555555556,
              "#d8576b"
             ],
             [
              0.6666666666666666,
              "#ed7953"
             ],
             [
              0.7777777777777778,
              "#fb9f3a"
             ],
             [
              0.8888888888888888,
              "#fdca26"
             ],
             [
              1,
              "#f0f921"
             ]
            ],
            "type": "histogram2dcontour"
           }
          ],
          "mesh3d": [
           {
            "colorbar": {
             "outlinewidth": 0,
             "ticks": ""
            },
            "type": "mesh3d"
           }
          ],
          "parcoords": [
           {
            "line": {
             "colorbar": {
              "outlinewidth": 0,
              "ticks": ""
             }
            },
            "type": "parcoords"
           }
          ],
          "pie": [
           {
            "automargin": true,
            "type": "pie"
           }
          ],
          "scatter": [
           {
            "fillpattern": {
             "fillmode": "overlay",
             "size": 10,
             "solidity": 0.2
            },
            "type": "scatter"
           }
          ],
          "scatter3d": [
           {
            "line": {
             "colorbar": {
              "outlinewidth": 0,
              "ticks": ""
             }
            },
            "marker": {
             "colorbar": {
              "outlinewidth": 0,
              "ticks": ""
             }
            },
            "type": "scatter3d"
           }
          ],
          "scattercarpet": [
           {
            "marker": {
             "colorbar": {
              "outlinewidth": 0,
              "ticks": ""
             }
            },
            "type": "scattercarpet"
           }
          ],
          "scattergeo": [
           {
            "marker": {
             "colorbar": {
              "outlinewidth": 0,
              "ticks": ""
             }
            },
            "type": "scattergeo"
           }
          ],
          "scattergl": [
           {
            "marker": {
             "colorbar": {
              "outlinewidth": 0,
              "ticks": ""
             }
            },
            "type": "scattergl"
           }
          ],
          "scattermapbox": [
           {
            "marker": {
             "colorbar": {
              "outlinewidth": 0,
              "ticks": ""
             }
            },
            "type": "scattermapbox"
           }
          ],
          "scatterpolar": [
           {
            "marker": {
             "colorbar": {
              "outlinewidth": 0,
              "ticks": ""
             }
            },
            "type": "scatterpolar"
           }
          ],
          "scatterpolargl": [
           {
            "marker": {
             "colorbar": {
              "outlinewidth": 0,
              "ticks": ""
             }
            },
            "type": "scatterpolargl"
           }
          ],
          "scatterternary": [
           {
            "marker": {
             "colorbar": {
              "outlinewidth": 0,
              "ticks": ""
             }
            },
            "type": "scatterternary"
           }
          ],
          "surface": [
           {
            "colorbar": {
             "outlinewidth": 0,
             "ticks": ""
            },
            "colorscale": [
             [
              0,
              "#0d0887"
             ],
             [
              0.1111111111111111,
              "#46039f"
             ],
             [
              0.2222222222222222,
              "#7201a8"
             ],
             [
              0.3333333333333333,
              "#9c179e"
             ],
             [
              0.4444444444444444,
              "#bd3786"
             ],
             [
              0.5555555555555556,
              "#d8576b"
             ],
             [
              0.6666666666666666,
              "#ed7953"
             ],
             [
              0.7777777777777778,
              "#fb9f3a"
             ],
             [
              0.8888888888888888,
              "#fdca26"
             ],
             [
              1,
              "#f0f921"
             ]
            ],
            "type": "surface"
           }
          ],
          "table": [
           {
            "cells": {
             "fill": {
              "color": "#EBF0F8"
             },
             "line": {
              "color": "white"
             }
            },
            "header": {
             "fill": {
              "color": "#C8D4E3"
             },
             "line": {
              "color": "white"
             }
            },
            "type": "table"
           }
          ]
         },
         "layout": {
          "annotationdefaults": {
           "arrowcolor": "#2a3f5f",
           "arrowhead": 0,
           "arrowwidth": 1
          },
          "autotypenumbers": "strict",
          "coloraxis": {
           "colorbar": {
            "outlinewidth": 0,
            "ticks": ""
           }
          },
          "colorscale": {
           "diverging": [
            [
             0,
             "#8e0152"
            ],
            [
             0.1,
             "#c51b7d"
            ],
            [
             0.2,
             "#de77ae"
            ],
            [
             0.3,
             "#f1b6da"
            ],
            [
             0.4,
             "#fde0ef"
            ],
            [
             0.5,
             "#f7f7f7"
            ],
            [
             0.6,
             "#e6f5d0"
            ],
            [
             0.7,
             "#b8e186"
            ],
            [
             0.8,
             "#7fbc41"
            ],
            [
             0.9,
             "#4d9221"
            ],
            [
             1,
             "#276419"
            ]
           ],
           "sequential": [
            [
             0,
             "#0d0887"
            ],
            [
             0.1111111111111111,
             "#46039f"
            ],
            [
             0.2222222222222222,
             "#7201a8"
            ],
            [
             0.3333333333333333,
             "#9c179e"
            ],
            [
             0.4444444444444444,
             "#bd3786"
            ],
            [
             0.5555555555555556,
             "#d8576b"
            ],
            [
             0.6666666666666666,
             "#ed7953"
            ],
            [
             0.7777777777777778,
             "#fb9f3a"
            ],
            [
             0.8888888888888888,
             "#fdca26"
            ],
            [
             1,
             "#f0f921"
            ]
           ],
           "sequentialminus": [
            [
             0,
             "#0d0887"
            ],
            [
             0.1111111111111111,
             "#46039f"
            ],
            [
             0.2222222222222222,
             "#7201a8"
            ],
            [
             0.3333333333333333,
             "#9c179e"
            ],
            [
             0.4444444444444444,
             "#bd3786"
            ],
            [
             0.5555555555555556,
             "#d8576b"
            ],
            [
             0.6666666666666666,
             "#ed7953"
            ],
            [
             0.7777777777777778,
             "#fb9f3a"
            ],
            [
             0.8888888888888888,
             "#fdca26"
            ],
            [
             1,
             "#f0f921"
            ]
           ]
          },
          "colorway": [
           "#636efa",
           "#EF553B",
           "#00cc96",
           "#ab63fa",
           "#FFA15A",
           "#19d3f3",
           "#FF6692",
           "#B6E880",
           "#FF97FF",
           "#FECB52"
          ],
          "font": {
           "color": "#2a3f5f"
          },
          "geo": {
           "bgcolor": "white",
           "lakecolor": "white",
           "landcolor": "#E5ECF6",
           "showlakes": true,
           "showland": true,
           "subunitcolor": "white"
          },
          "hoverlabel": {
           "align": "left"
          },
          "hovermode": "closest",
          "mapbox": {
           "style": "light"
          },
          "paper_bgcolor": "white",
          "plot_bgcolor": "#E5ECF6",
          "polar": {
           "angularaxis": {
            "gridcolor": "white",
            "linecolor": "white",
            "ticks": ""
           },
           "bgcolor": "#E5ECF6",
           "radialaxis": {
            "gridcolor": "white",
            "linecolor": "white",
            "ticks": ""
           }
          },
          "scene": {
           "xaxis": {
            "backgroundcolor": "#E5ECF6",
            "gridcolor": "white",
            "gridwidth": 2,
            "linecolor": "white",
            "showbackground": true,
            "ticks": "",
            "zerolinecolor": "white"
           },
           "yaxis": {
            "backgroundcolor": "#E5ECF6",
            "gridcolor": "white",
            "gridwidth": 2,
            "linecolor": "white",
            "showbackground": true,
            "ticks": "",
            "zerolinecolor": "white"
           },
           "zaxis": {
            "backgroundcolor": "#E5ECF6",
            "gridcolor": "white",
            "gridwidth": 2,
            "linecolor": "white",
            "showbackground": true,
            "ticks": "",
            "zerolinecolor": "white"
           }
          },
          "shapedefaults": {
           "line": {
            "color": "#2a3f5f"
           }
          },
          "ternary": {
           "aaxis": {
            "gridcolor": "white",
            "linecolor": "white",
            "ticks": ""
           },
           "baxis": {
            "gridcolor": "white",
            "linecolor": "white",
            "ticks": ""
           },
           "bgcolor": "#E5ECF6",
           "caxis": {
            "gridcolor": "white",
            "linecolor": "white",
            "ticks": ""
           }
          },
          "title": {
           "x": 0.05
          },
          "xaxis": {
           "automargin": true,
           "gridcolor": "white",
           "linecolor": "white",
           "ticks": "",
           "title": {
            "standoff": 15
           },
           "zerolinecolor": "white",
           "zerolinewidth": 2
          },
          "yaxis": {
           "automargin": true,
           "gridcolor": "white",
           "linecolor": "white",
           "ticks": "",
           "title": {
            "standoff": 15
           },
           "zerolinecolor": "white",
           "zerolinewidth": 2
          }
         }
        }
       }
      }
     },
     "metadata": {},
     "output_type": "display_data"
    }
   ],
   "source": [
    "fig = px.scatter_mapbox(\n",
    "    venue,\n",
    "    lat=\"latitude\",\n",
    "    lon=\"longitude\",\n",
    "    hover_data=[\"location\", \"Nom_Site\", \"Sports\"],\n",
    "    color_discrete_sequence=[\"#1b263b\"],\n",
    "    zoom=3,\n",
    "    height=300,\n",
    ")\n",
    "fig.update_layout(mapbox_style=\"open-street-map\")\n",
    "fig.update_layout(margin={\"r\": 0, \"t\": 0, \"l\": 0, \"b\": 0})\n",
    "fig.show()\n"
   ]
  }
 ],
 "metadata": {
  "kernelspec": {
   "display_name": "makeover_monday",
   "language": "python",
   "name": "python3"
  },
  "language_info": {
   "codemirror_mode": {
    "name": "ipython",
    "version": 3
   },
   "file_extension": ".py",
   "mimetype": "text/x-python",
   "name": "python",
   "nbconvert_exporter": "python",
   "pygments_lexer": "ipython3",
   "version": "3.12.4"
  }
 },
 "nbformat": 4,
 "nbformat_minor": 2
}
